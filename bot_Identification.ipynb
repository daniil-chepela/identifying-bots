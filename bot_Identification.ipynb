{
 "cells": [
  {
   "cell_type": "code",
   "execution_count": 1,
   "metadata": {
    "colab": {
     "base_uri": "https://localhost:8080/",
     "height": 235
    },
    "id": "5xkKOvaRNDEt",
    "outputId": "ec0e34b2-616b-4a32-96d3-f2e09fb7384f"
   },
   "outputs": [
    {
     "name": "stdout",
     "output_type": "stream",
     "text": [
      "Num GPUs Available:  1\n"
     ]
    }
   ],
   "source": [
    "import pandas as pd\n",
    "import numpy as np\n",
    "import tensorflow as tf\n",
    "from tensorflow.keras import layers\n",
    "from tensorflow.keras import losses\n",
    "from tensorflow.keras import metrics\n",
    "print(\"Num GPUs Available: \", len(tf.config.list_physical_devices('GPU')))"
   ]
  },
  {
   "cell_type": "code",
   "execution_count": 2,
   "metadata": {
    "colab": {
     "base_uri": "https://localhost:8080/",
     "height": 833
    },
    "id": "bDg219SruSer",
    "outputId": "f561d6d0-07fb-486f-a8d9-5dee2c29c740"
   },
   "outputs": [
    {
     "data": {
      "text/html": [
       "<div>\n",
       "<style scoped>\n",
       "    .dataframe tbody tr th:only-of-type {\n",
       "        vertical-align: middle;\n",
       "    }\n",
       "\n",
       "    .dataframe tbody tr th {\n",
       "        vertical-align: top;\n",
       "    }\n",
       "\n",
       "    .dataframe thead th {\n",
       "        text-align: right;\n",
       "    }\n",
       "</style>\n",
       "<table border=\"1\" class=\"dataframe\">\n",
       "  <thead>\n",
       "    <tr style=\"text-align: right;\">\n",
       "      <th></th>\n",
       "      <th>Annotator ID</th>\n",
       "      <th>Text</th>\n",
       "      <th>Answer</th>\n",
       "    </tr>\n",
       "  </thead>\n",
       "  <tbody>\n",
       "    <tr>\n",
       "      <th>0</th>\n",
       "      <td>A1MG8KNVSVZ365</td>\n",
       "      <td>@cz_binance Thanks for being upfront about thi...</td>\n",
       "      <td>1</td>\n",
       "    </tr>\n",
       "    <tr>\n",
       "      <th>1</th>\n",
       "      <td>A3OCJJMRKAIJZA</td>\n",
       "      <td>@cz_binance Thanks for being upfront about thi...</td>\n",
       "      <td>1</td>\n",
       "    </tr>\n",
       "    <tr>\n",
       "      <th>2</th>\n",
       "      <td>AQIP3DSYXEXX5</td>\n",
       "      <td>@cz_binance Thanks for being upfront about thi...</td>\n",
       "      <td>1</td>\n",
       "    </tr>\n",
       "    <tr>\n",
       "      <th>3</th>\n",
       "      <td>A1MG8KNVSVZ365</td>\n",
       "      <td>@cz_binance The speed with which Binance has r...</td>\n",
       "      <td>0</td>\n",
       "    </tr>\n",
       "    <tr>\n",
       "      <th>4</th>\n",
       "      <td>A3MV3PT4TOO69P</td>\n",
       "      <td>@cz_binance The speed with which Binance has r...</td>\n",
       "      <td>1</td>\n",
       "    </tr>\n",
       "    <tr>\n",
       "      <th>5</th>\n",
       "      <td>AQIP3DSYXEXX5</td>\n",
       "      <td>@cz_binance The speed with which Binance has r...</td>\n",
       "      <td>1</td>\n",
       "    </tr>\n",
       "    <tr>\n",
       "      <th>6</th>\n",
       "      <td>A1MG8KNVSVZ365</td>\n",
       "      <td>@ByzBox @cz_binance The big difference is that...</td>\n",
       "      <td>0</td>\n",
       "    </tr>\n",
       "    <tr>\n",
       "      <th>7</th>\n",
       "      <td>A3MV3PT4TOO69P</td>\n",
       "      <td>@ByzBox @cz_binance The big difference is that...</td>\n",
       "      <td>1</td>\n",
       "    </tr>\n",
       "    <tr>\n",
       "      <th>8</th>\n",
       "      <td>AGRYG65WJ1CKJ</td>\n",
       "      <td>@ByzBox @cz_binance The big difference is that...</td>\n",
       "      <td>0</td>\n",
       "    </tr>\n",
       "    <tr>\n",
       "      <th>9</th>\n",
       "      <td>A1MG8KNVSVZ365</td>\n",
       "      <td>@King_Tech__ You might have to read the terms ...</td>\n",
       "      <td>0</td>\n",
       "    </tr>\n",
       "    <tr>\n",
       "      <th>10</th>\n",
       "      <td>A3MV3PT4TOO69P</td>\n",
       "      <td>@King_Tech__ You might have to read the terms ...</td>\n",
       "      <td>1</td>\n",
       "    </tr>\n",
       "    <tr>\n",
       "      <th>11</th>\n",
       "      <td>AR9AU5FY1S3RO</td>\n",
       "      <td>@King_Tech__ You might have to read the terms ...</td>\n",
       "      <td>0</td>\n",
       "    </tr>\n",
       "  </tbody>\n",
       "</table>\n",
       "</div>"
      ],
      "text/plain": [
       "      Annotator ID                                               Text  Answer\n",
       "0   A1MG8KNVSVZ365  @cz_binance Thanks for being upfront about thi...       1\n",
       "1   A3OCJJMRKAIJZA  @cz_binance Thanks for being upfront about thi...       1\n",
       "2    AQIP3DSYXEXX5  @cz_binance Thanks for being upfront about thi...       1\n",
       "3   A1MG8KNVSVZ365  @cz_binance The speed with which Binance has r...       0\n",
       "4   A3MV3PT4TOO69P  @cz_binance The speed with which Binance has r...       1\n",
       "5    AQIP3DSYXEXX5  @cz_binance The speed with which Binance has r...       1\n",
       "6   A1MG8KNVSVZ365  @ByzBox @cz_binance The big difference is that...       0\n",
       "7   A3MV3PT4TOO69P  @ByzBox @cz_binance The big difference is that...       1\n",
       "8    AGRYG65WJ1CKJ  @ByzBox @cz_binance The big difference is that...       0\n",
       "9   A1MG8KNVSVZ365  @King_Tech__ You might have to read the terms ...       0\n",
       "10  A3MV3PT4TOO69P  @King_Tech__ You might have to read the terms ...       1\n",
       "11   AR9AU5FY1S3RO  @King_Tech__ You might have to read the terms ...       0"
      ]
     },
     "execution_count": 2,
     "metadata": {},
     "output_type": "execute_result"
    }
   ],
   "source": [
    "dataset_df = pd.read_csv('NLP_challenge.csv')\n",
    "dataset_df['Answer'] = dataset_df['Answer'].apply(int)\n",
    "dataset_df.head(12)"
   ]
  },
  {
   "cell_type": "code",
   "execution_count": 3,
   "metadata": {
    "colab": {
     "base_uri": "https://localhost:8080/"
    },
    "id": "Mg-ubfqi3jq_",
    "outputId": "dc5cea26-bfa5-4098-e520-bc407c76bb6b"
   },
   "outputs": [
    {
     "data": {
      "text/plain": [
       "<TensorSliceDataset element_spec=(TensorSpec(shape=(), dtype=tf.string, name=None), TensorSpec(shape=(), dtype=tf.int32, name=None))>"
      ]
     },
     "execution_count": 3,
     "metadata": {},
     "output_type": "execute_result"
    }
   ],
   "source": [
    "raw_text_ds = tf.data.Dataset.from_tensor_slices(\n",
    "    (tf.cast(dataset_df['Text'].values, tf.string),\n",
    "    tf.cast(dataset_df['Answer'].values, tf.int32))\n",
    ")\n",
    "raw_text_ds"
   ]
  },
  {
   "cell_type": "code",
   "execution_count": 4,
   "metadata": {
    "colab": {
     "base_uri": "https://localhost:8080/"
    },
    "id": "UgdMvvOuC66G",
    "outputId": "ff6ffa57-214b-42db-e45b-2db96a1ac907"
   },
   "outputs": [
    {
     "data": {
      "text/plain": [
       "<MapDataset element_spec=(TensorSpec(shape=(1,), dtype=tf.string, name=None), TensorSpec(shape=(1,), dtype=tf.int32, name=None))>"
      ]
     },
     "execution_count": 4,
     "metadata": {},
     "output_type": "execute_result"
    }
   ],
   "source": [
    "def expand_dims_ds(text, label):\n",
    "  text = tf.expand_dims(text, -1)\n",
    "  label = tf.expand_dims(label, -1)\n",
    "  return text, label\n",
    "\n",
    "train_ds = raw_text_ds.map(expand_dims_ds)\n",
    "train_ds"
   ]
  },
  {
   "cell_type": "code",
   "execution_count": 5,
   "metadata": {
    "id": "x27L_IP974vC"
   },
   "outputs": [],
   "source": [
    "AUTOTUNE = tf.data.AUTOTUNE\n",
    "train_ds = train_ds.cache().prefetch(buffer_size=AUTOTUNE)"
   ]
  },
  {
   "cell_type": "code",
   "execution_count": 6,
   "metadata": {
    "id": "4dm9q1g-xWEV"
   },
   "outputs": [],
   "source": [
    "max_features = 5000\n",
    "sequence_length = 50\n",
    "\n",
    "vectorize_layer = layers.TextVectorization(\n",
    "    standardize='lower_and_strip_punctuation',\n",
    "    max_tokens=max_features,\n",
    "    output_mode='int',\n",
    "    output_sequence_length=sequence_length)\n",
    "\n",
    "vectorize_layer.adapt(raw_text_ds.map(lambda x, y: x))"
   ]
  },
  {
   "cell_type": "code",
   "execution_count": 7,
   "metadata": {
    "id": "Ffxulg2PAPHm"
   },
   "outputs": [],
   "source": [
    "model = tf.keras.Sequential([\n",
    "  tf.keras.Input(shape=(1,), dtype=\"string\"),\n",
    "  vectorize_layer,\n",
    "  layers.Embedding(max_features, 64, mask_zero=True),\n",
    "  layers.Bidirectional(layers.LSTM(64)),\n",
    "  layers.Dense(32),#, activation='relu'\n",
    "  layers.Dropout(0.2),\n",
    "  layers.Dense(1, activation='sigmoid')\n",
    "])"
   ]
  },
  {
   "cell_type": "code",
   "execution_count": 8,
   "metadata": {
    "id": "W_xb5nC8BB93"
   },
   "outputs": [],
   "source": [
    "model.compile(loss=losses.BinaryCrossentropy(),\n",
    "              optimizer='adam',\n",
    "              metrics=['accuracy'])"
   ]
  },
  {
   "cell_type": "code",
   "execution_count": 9,
   "metadata": {
    "colab": {
     "base_uri": "https://localhost:8080/",
     "height": 363
    },
    "id": "XaJa77klBCaG",
    "outputId": "a2efa7e8-aa64-49ab-efc6-b9624c6cd04a"
   },
   "outputs": [
    {
     "name": "stdout",
     "output_type": "stream",
     "text": [
      "Epoch 1/3\n",
      "36417/36417 [==============================] - 803s 22ms/step - loss: 0.6359 - accuracy: 0.6217\n",
      "Epoch 2/3\n",
      "36417/36417 [==============================] - 792s 22ms/step - loss: 0.6030 - accuracy: 0.6692\n",
      "Epoch 3/3\n",
      "36417/36417 [==============================] - 777s 21ms/step - loss: 0.5763 - accuracy: 0.6910\n"
     ]
    }
   ],
   "source": [
    "epochs = 3 # higher number of epochs leads to overfitting\n",
    "history = model.fit(train_ds, epochs=epochs)"
   ]
  },
  {
   "cell_type": "code",
   "execution_count": 11,
   "metadata": {},
   "outputs": [
    {
     "name": "stdout",
     "output_type": "stream",
     "text": [
      "36417/36417 [==============================] - 237s 7ms/step\n"
     ]
    },
    {
     "data": {
      "text/plain": [
       "array([ 5917,  8464,  4379, ..., 34852, 34851, 12311])"
      ]
     },
     "execution_count": 11,
     "metadata": {},
     "output_type": "execute_result"
    }
   ],
   "source": [
    "from cleanlab.filter import find_label_issues\n",
    "\n",
    "probs = model.predict(train_ds.map(lambda x, y: x))\n",
    "probs = np.column_stack([[1-num for num in probs], probs])\n",
    "\n",
    "ordered_label_issues = find_label_issues(\n",
    "    labels=dataset_df['Answer'],\n",
    "    pred_probs=probs,\n",
    "    return_indices_ranked_by='self_confidence',\n",
    ")\n",
    "\n",
    "ordered_label_issues"
   ]
  },
  {
   "cell_type": "code",
   "execution_count": 13,
   "metadata": {},
   "outputs": [
    {
     "data": {
      "text/plain": [
       "array(['A3OCJJMRKAIJZA', 'A3BCKNE5CWHODZ', 'A3BJX6UUSOIKFN',\n",
       "       'A3MV3PT4TOO69P', 'A1MG8KNVSVZ365', 'ARW1TCHCLEK1W',\n",
       "       'AQIP3DSYXEXX5', 'A3BISMR4GI02ZG', 'A1MJVTR0PCKBWW',\n",
       "       'A3124SRR191UIL', 'A2LU259QPV1I4V', 'A2GM5BW75YCKKW',\n",
       "       'AYTH0E5PUXWX8', 'A2WPHVMLLEV5ZB', 'A2A78DMGLC1S0Y',\n",
       "       'A1R0689JPSQ3OF', 'A33B85TN97HQ33', 'A19X8IA9EKC3XH',\n",
       "       'AG36U7IOG2LAP', 'AAX9LTAOIBECD', 'AKQAI78JTXXC9',\n",
       "       'A1M5BJTQIXCM33', 'A16184N1RO5OJV', 'AOOF0H0EIEFFQ',\n",
       "       'AMYURTQIMAC8T', 'A9HQ3E0F2AGVO', 'A2R25RH05K0B68',\n",
       "       'AR9AU5FY1S3RO', 'A2CJFO19NY4T5R', 'A3HYCA7N5F6DL9',\n",
       "       'A2KHLJ2F58BEZK', 'A33Y36Y252Z30U', 'A1YSYI926BBOHW',\n",
       "       'A2HM35CWB7IIFM', 'AD1ILDUXZHASF', 'A198H320N5MSXX',\n",
       "       'A292TFDMNVS0TP', 'AGRYG65WJ1CKJ', 'A1DP551UV06FN6',\n",
       "       'AKSLU0C30G3JT', 'AC95JAUAM2L2Z', 'A2R28HXAEFKBPC',\n",
       "       'AJQGWGESKQT4Y', 'AXY0D2AMLKE2A', 'A2VQBOJJ8HD6W9'], dtype=object)"
      ]
     },
     "execution_count": 13,
     "metadata": {},
     "output_type": "execute_result"
    }
   ],
   "source": [
    "probably_bots = pd.unique(dataset_df.loc[ordered_label_issues, 'Annotator ID'])\n",
    "probably_bots"
   ]
  },
  {
   "cell_type": "code",
   "execution_count": 34,
   "metadata": {},
   "outputs": [
    {
     "data": {
      "text/html": [
       "<div>\n",
       "<style scoped>\n",
       "    .dataframe tbody tr th:only-of-type {\n",
       "        vertical-align: middle;\n",
       "    }\n",
       "\n",
       "    .dataframe tbody tr th {\n",
       "        vertical-align: top;\n",
       "    }\n",
       "\n",
       "    .dataframe thead th {\n",
       "        text-align: right;\n",
       "    }\n",
       "</style>\n",
       "<table border=\"1\" class=\"dataframe\">\n",
       "  <thead>\n",
       "    <tr style=\"text-align: right;\">\n",
       "      <th></th>\n",
       "      <th>botID</th>\n",
       "      <th>number_of_answers</th>\n",
       "      <th>number_of_errors</th>\n",
       "      <th>% of errors</th>\n",
       "    </tr>\n",
       "  </thead>\n",
       "  <tbody>\n",
       "    <tr>\n",
       "      <th>0</th>\n",
       "      <td>A3OCJJMRKAIJZA</td>\n",
       "      <td>5001</td>\n",
       "      <td>1911</td>\n",
       "      <td>38.212358</td>\n",
       "    </tr>\n",
       "    <tr>\n",
       "      <th>1</th>\n",
       "      <td>A3BCKNE5CWHODZ</td>\n",
       "      <td>1443</td>\n",
       "      <td>523</td>\n",
       "      <td>36.243936</td>\n",
       "    </tr>\n",
       "    <tr>\n",
       "      <th>2</th>\n",
       "      <td>A3BJX6UUSOIKFN</td>\n",
       "      <td>1472</td>\n",
       "      <td>713</td>\n",
       "      <td>48.437500</td>\n",
       "    </tr>\n",
       "    <tr>\n",
       "      <th>3</th>\n",
       "      <td>A3MV3PT4TOO69P</td>\n",
       "      <td>5126</td>\n",
       "      <td>1153</td>\n",
       "      <td>22.493172</td>\n",
       "    </tr>\n",
       "    <tr>\n",
       "      <th>4</th>\n",
       "      <td>A1MG8KNVSVZ365</td>\n",
       "      <td>3561</td>\n",
       "      <td>1323</td>\n",
       "      <td>37.152485</td>\n",
       "    </tr>\n",
       "    <tr>\n",
       "      <th>5</th>\n",
       "      <td>ARW1TCHCLEK1W</td>\n",
       "      <td>1042</td>\n",
       "      <td>193</td>\n",
       "      <td>18.522073</td>\n",
       "    </tr>\n",
       "    <tr>\n",
       "      <th>6</th>\n",
       "      <td>AQIP3DSYXEXX5</td>\n",
       "      <td>3469</td>\n",
       "      <td>1349</td>\n",
       "      <td>38.887287</td>\n",
       "    </tr>\n",
       "    <tr>\n",
       "      <th>7</th>\n",
       "      <td>A3BISMR4GI02ZG</td>\n",
       "      <td>3589</td>\n",
       "      <td>795</td>\n",
       "      <td>22.151017</td>\n",
       "    </tr>\n",
       "    <tr>\n",
       "      <th>8</th>\n",
       "      <td>A1MJVTR0PCKBWW</td>\n",
       "      <td>980</td>\n",
       "      <td>72</td>\n",
       "      <td>7.346939</td>\n",
       "    </tr>\n",
       "    <tr>\n",
       "      <th>9</th>\n",
       "      <td>A3124SRR191UIL</td>\n",
       "      <td>205</td>\n",
       "      <td>38</td>\n",
       "      <td>18.536585</td>\n",
       "    </tr>\n",
       "  </tbody>\n",
       "</table>\n",
       "</div>"
      ],
      "text/plain": [
       "            botID  number_of_answers  number_of_errors  % of errors\n",
       "0  A3OCJJMRKAIJZA               5001              1911    38.212358\n",
       "1  A3BCKNE5CWHODZ               1443               523    36.243936\n",
       "2  A3BJX6UUSOIKFN               1472               713    48.437500\n",
       "3  A3MV3PT4TOO69P               5126              1153    22.493172\n",
       "4  A1MG8KNVSVZ365               3561              1323    37.152485\n",
       "5   ARW1TCHCLEK1W               1042               193    18.522073\n",
       "6   AQIP3DSYXEXX5               3469              1349    38.887287\n",
       "7  A3BISMR4GI02ZG               3589               795    22.151017\n",
       "8  A1MJVTR0PCKBWW                980                72     7.346939\n",
       "9  A3124SRR191UIL                205                38    18.536585"
      ]
     },
     "execution_count": 34,
     "metadata": {},
     "output_type": "execute_result"
    }
   ],
   "source": [
    "bots_df = pd.DataFrame(data=probably_bots, columns=['botID'])\n",
    "bots_df['number_of_answers'] = [dataset_df.loc[dataset_df['Annotator ID']==botID].shape[0] for botID in probably_bots]\n",
    "bots_df['number_of_errors'] = [dataset_df.loc[ordered_label_issues].loc[dataset_df['Annotator ID']==botID].shape[0] for botID in probably_bots]\n",
    "bots_df['% of errors'] = bots_df['number_of_errors'] / bots_df['number_of_answers'] * 100\n",
    "bots_df.head(10)"
   ]
  },
  {
   "cell_type": "code",
   "execution_count": 40,
   "metadata": {},
   "outputs": [
    {
     "data": {
      "text/html": [
       "<div>\n",
       "<style scoped>\n",
       "    .dataframe tbody tr th:only-of-type {\n",
       "        vertical-align: middle;\n",
       "    }\n",
       "\n",
       "    .dataframe tbody tr th {\n",
       "        vertical-align: top;\n",
       "    }\n",
       "\n",
       "    .dataframe thead th {\n",
       "        text-align: right;\n",
       "    }\n",
       "</style>\n",
       "<table border=\"1\" class=\"dataframe\">\n",
       "  <thead>\n",
       "    <tr style=\"text-align: right;\">\n",
       "      <th></th>\n",
       "      <th>botID</th>\n",
       "      <th>number_of_answers</th>\n",
       "      <th>number_of_errors</th>\n",
       "      <th>% of errors</th>\n",
       "    </tr>\n",
       "  </thead>\n",
       "  <tbody>\n",
       "    <tr>\n",
       "      <th>0</th>\n",
       "      <td>A3OCJJMRKAIJZA</td>\n",
       "      <td>5001</td>\n",
       "      <td>1911</td>\n",
       "      <td>38.212358</td>\n",
       "    </tr>\n",
       "    <tr>\n",
       "      <th>1</th>\n",
       "      <td>A3BCKNE5CWHODZ</td>\n",
       "      <td>1443</td>\n",
       "      <td>523</td>\n",
       "      <td>36.243936</td>\n",
       "    </tr>\n",
       "    <tr>\n",
       "      <th>2</th>\n",
       "      <td>A3BJX6UUSOIKFN</td>\n",
       "      <td>1472</td>\n",
       "      <td>713</td>\n",
       "      <td>48.437500</td>\n",
       "    </tr>\n",
       "    <tr>\n",
       "      <th>4</th>\n",
       "      <td>A1MG8KNVSVZ365</td>\n",
       "      <td>3561</td>\n",
       "      <td>1323</td>\n",
       "      <td>37.152485</td>\n",
       "    </tr>\n",
       "    <tr>\n",
       "      <th>6</th>\n",
       "      <td>AQIP3DSYXEXX5</td>\n",
       "      <td>3469</td>\n",
       "      <td>1349</td>\n",
       "      <td>38.887287</td>\n",
       "    </tr>\n",
       "  </tbody>\n",
       "</table>\n",
       "</div>"
      ],
      "text/plain": [
       "            botID  number_of_answers  number_of_errors  % of errors\n",
       "0  A3OCJJMRKAIJZA               5001              1911    38.212358\n",
       "1  A3BCKNE5CWHODZ               1443               523    36.243936\n",
       "2  A3BJX6UUSOIKFN               1472               713    48.437500\n",
       "4  A1MG8KNVSVZ365               3561              1323    37.152485\n",
       "6   AQIP3DSYXEXX5               3469              1349    38.887287"
      ]
     },
     "execution_count": 40,
     "metadata": {},
     "output_type": "execute_result"
    }
   ],
   "source": [
    "bots_df.loc[(bots_df['% of errors'] > 30) & (bots_df['number_of_answers'] > 1000)]"
   ]
  },
  {
   "cell_type": "code",
   "execution_count": null,
   "metadata": {},
   "outputs": [],
   "source": []
  }
 ],
 "metadata": {
  "accelerator": "GPU",
  "colab": {
   "provenance": []
  },
  "gpuClass": "standard",
  "kernelspec": {
   "display_name": "Python 3 (ipykernel)",
   "language": "python",
   "name": "python3"
  },
  "language_info": {
   "codemirror_mode": {
    "name": "ipython",
    "version": 3
   },
   "file_extension": ".py",
   "mimetype": "text/x-python",
   "name": "python",
   "nbconvert_exporter": "python",
   "pygments_lexer": "ipython3",
   "version": "3.9.12"
  }
 },
 "nbformat": 4,
 "nbformat_minor": 1
}
