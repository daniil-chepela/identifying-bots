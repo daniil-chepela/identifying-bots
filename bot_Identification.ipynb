{
 "cells": [
  {
   "cell_type": "code",
   "execution_count": 1,
   "metadata": {
    "colab": {
     "base_uri": "https://localhost:8080/",
     "height": 235
    },
    "id": "5xkKOvaRNDEt",
    "outputId": "ec0e34b2-616b-4a32-96d3-f2e09fb7384f"
   },
   "outputs": [
    {
     "name": "stdout",
     "output_type": "stream",
     "text": [
      "Num GPUs Available:  1\n"
     ]
    }
   ],
   "source": [
    "import pandas as pd\n",
    "import numpy as np\n",
    "import tensorflow as tf\n",
    "from tensorflow.keras import layers\n",
    "from tensorflow.keras import losses\n",
    "from tensorflow.keras import metrics\n",
    "print(\"Num GPUs Available: \", len(tf.config.list_physical_devices('GPU')))"
   ]
  },
  {
   "cell_type": "code",
   "execution_count": 2,
   "metadata": {
    "colab": {
     "base_uri": "https://localhost:8080/",
     "height": 833
    },
    "id": "bDg219SruSer",
    "outputId": "f561d6d0-07fb-486f-a8d9-5dee2c29c740"
   },
   "outputs": [
    {
     "data": {
      "text/html": [
       "<div>\n",
       "<style scoped>\n",
       "    .dataframe tbody tr th:only-of-type {\n",
       "        vertical-align: middle;\n",
       "    }\n",
       "\n",
       "    .dataframe tbody tr th {\n",
       "        vertical-align: top;\n",
       "    }\n",
       "\n",
       "    .dataframe thead th {\n",
       "        text-align: right;\n",
       "    }\n",
       "</style>\n",
       "<table border=\"1\" class=\"dataframe\">\n",
       "  <thead>\n",
       "    <tr style=\"text-align: right;\">\n",
       "      <th></th>\n",
       "      <th>Annotator ID</th>\n",
       "      <th>Text</th>\n",
       "      <th>Answer</th>\n",
       "    </tr>\n",
       "  </thead>\n",
       "  <tbody>\n",
       "    <tr>\n",
       "      <th>0</th>\n",
       "      <td>A1MG8KNVSVZ365</td>\n",
       "      <td>@cz_binance Thanks for being upfront about thi...</td>\n",
       "      <td>1</td>\n",
       "    </tr>\n",
       "    <tr>\n",
       "      <th>1</th>\n",
       "      <td>A3OCJJMRKAIJZA</td>\n",
       "      <td>@cz_binance Thanks for being upfront about thi...</td>\n",
       "      <td>1</td>\n",
       "    </tr>\n",
       "    <tr>\n",
       "      <th>2</th>\n",
       "      <td>AQIP3DSYXEXX5</td>\n",
       "      <td>@cz_binance Thanks for being upfront about thi...</td>\n",
       "      <td>1</td>\n",
       "    </tr>\n",
       "    <tr>\n",
       "      <th>3</th>\n",
       "      <td>A1MG8KNVSVZ365</td>\n",
       "      <td>@cz_binance The speed with which Binance has r...</td>\n",
       "      <td>0</td>\n",
       "    </tr>\n",
       "    <tr>\n",
       "      <th>4</th>\n",
       "      <td>A3MV3PT4TOO69P</td>\n",
       "      <td>@cz_binance The speed with which Binance has r...</td>\n",
       "      <td>1</td>\n",
       "    </tr>\n",
       "    <tr>\n",
       "      <th>5</th>\n",
       "      <td>AQIP3DSYXEXX5</td>\n",
       "      <td>@cz_binance The speed with which Binance has r...</td>\n",
       "      <td>1</td>\n",
       "    </tr>\n",
       "    <tr>\n",
       "      <th>6</th>\n",
       "      <td>A1MG8KNVSVZ365</td>\n",
       "      <td>@ByzBox @cz_binance The big difference is that...</td>\n",
       "      <td>0</td>\n",
       "    </tr>\n",
       "    <tr>\n",
       "      <th>7</th>\n",
       "      <td>A3MV3PT4TOO69P</td>\n",
       "      <td>@ByzBox @cz_binance The big difference is that...</td>\n",
       "      <td>1</td>\n",
       "    </tr>\n",
       "    <tr>\n",
       "      <th>8</th>\n",
       "      <td>AGRYG65WJ1CKJ</td>\n",
       "      <td>@ByzBox @cz_binance The big difference is that...</td>\n",
       "      <td>0</td>\n",
       "    </tr>\n",
       "    <tr>\n",
       "      <th>9</th>\n",
       "      <td>A1MG8KNVSVZ365</td>\n",
       "      <td>@King_Tech__ You might have to read the terms ...</td>\n",
       "      <td>0</td>\n",
       "    </tr>\n",
       "    <tr>\n",
       "      <th>10</th>\n",
       "      <td>A3MV3PT4TOO69P</td>\n",
       "      <td>@King_Tech__ You might have to read the terms ...</td>\n",
       "      <td>1</td>\n",
       "    </tr>\n",
       "    <tr>\n",
       "      <th>11</th>\n",
       "      <td>AR9AU5FY1S3RO</td>\n",
       "      <td>@King_Tech__ You might have to read the terms ...</td>\n",
       "      <td>0</td>\n",
       "    </tr>\n",
       "  </tbody>\n",
       "</table>\n",
       "</div>"
      ],
      "text/plain": [
       "      Annotator ID                                               Text  Answer\n",
       "0   A1MG8KNVSVZ365  @cz_binance Thanks for being upfront about thi...       1\n",
       "1   A3OCJJMRKAIJZA  @cz_binance Thanks for being upfront about thi...       1\n",
       "2    AQIP3DSYXEXX5  @cz_binance Thanks for being upfront about thi...       1\n",
       "3   A1MG8KNVSVZ365  @cz_binance The speed with which Binance has r...       0\n",
       "4   A3MV3PT4TOO69P  @cz_binance The speed with which Binance has r...       1\n",
       "5    AQIP3DSYXEXX5  @cz_binance The speed with which Binance has r...       1\n",
       "6   A1MG8KNVSVZ365  @ByzBox @cz_binance The big difference is that...       0\n",
       "7   A3MV3PT4TOO69P  @ByzBox @cz_binance The big difference is that...       1\n",
       "8    AGRYG65WJ1CKJ  @ByzBox @cz_binance The big difference is that...       0\n",
       "9   A1MG8KNVSVZ365  @King_Tech__ You might have to read the terms ...       0\n",
       "10  A3MV3PT4TOO69P  @King_Tech__ You might have to read the terms ...       1\n",
       "11   AR9AU5FY1S3RO  @King_Tech__ You might have to read the terms ...       0"
      ]
     },
     "execution_count": 2,
     "metadata": {},
     "output_type": "execute_result"
    }
   ],
   "source": [
    "dataset_df = pd.read_csv('NLP_challenge.csv')\n",
    "dataset_df['Answer'] = dataset_df['Answer'].apply(int)\n",
    "dataset_df.head(12)"
   ]
  },
  {
   "cell_type": "code",
   "execution_count": 3,
   "metadata": {
    "colab": {
     "base_uri": "https://localhost:8080/"
    },
    "id": "Mg-ubfqi3jq_",
    "outputId": "dc5cea26-bfa5-4098-e520-bc407c76bb6b"
   },
   "outputs": [
    {
     "data": {
      "text/plain": [
       "<TensorSliceDataset element_spec=(TensorSpec(shape=(), dtype=tf.string, name=None), TensorSpec(shape=(), dtype=tf.int32, name=None))>"
      ]
     },
     "execution_count": 3,
     "metadata": {},
     "output_type": "execute_result"
    }
   ],
   "source": [
    "raw_text_ds = tf.data.Dataset.from_tensor_slices(\n",
    "    (tf.cast(dataset_df['Text'].values, tf.string),\n",
    "    tf.cast(dataset_df['Answer'].values, tf.int32))\n",
    ")\n",
    "raw_text_ds"
   ]
  },
  {
   "cell_type": "code",
   "execution_count": 4,
   "metadata": {
    "colab": {
     "base_uri": "https://localhost:8080/"
    },
    "id": "UgdMvvOuC66G",
    "outputId": "ff6ffa57-214b-42db-e45b-2db96a1ac907"
   },
   "outputs": [
    {
     "data": {
      "text/plain": [
       "<MapDataset element_spec=(TensorSpec(shape=(1,), dtype=tf.string, name=None), TensorSpec(shape=(1,), dtype=tf.int32, name=None))>"
      ]
     },
     "execution_count": 4,
     "metadata": {},
     "output_type": "execute_result"
    }
   ],
   "source": [
    "def expand_dims_ds(text, label):\n",
    "  text = tf.expand_dims(text, -1)\n",
    "  label = tf.expand_dims(label, -1)\n",
    "  return text, label\n",
    "\n",
    "train_ds = raw_text_ds.map(expand_dims_ds)\n",
    "train_ds"
   ]
  },
  {
   "cell_type": "code",
   "execution_count": 5,
   "metadata": {
    "id": "x27L_IP974vC"
   },
   "outputs": [],
   "source": [
    "AUTOTUNE = tf.data.AUTOTUNE\n",
    "train_ds = train_ds.cache().prefetch(buffer_size=AUTOTUNE)"
   ]
  },
  {
   "cell_type": "code",
   "execution_count": null,
   "metadata": {
    "id": "4dm9q1g-xWEV"
   },
   "outputs": [],
   "source": [
    "max_features = 5000\n",
    "sequence_length = 50\n",
    "\n",
    "vectorize_layer = layers.TextVectorization(\n",
    "    standardize='lower_and_strip_punctuation',\n",
    "    max_tokens=max_features,\n",
    "    output_mode='int',\n",
    "    output_sequence_length=sequence_length)\n",
    "\n",
    "vectorize_layer.adapt(raw_text_ds.map(lambda x, y: x))"
   ]
  },
  {
   "cell_type": "code",
   "execution_count": null,
   "metadata": {
    "id": "Ffxulg2PAPHm"
   },
   "outputs": [],
   "source": [
    "model = tf.keras.Sequential([\n",
    "  tf.keras.Input(shape=(1,), dtype=\"string\"),\n",
    "  vectorize_layer,\n",
    "  layers.Embedding(max_features, 64, mask_zero=True),\n",
    "  layers.Bidirectional(layers.LSTM(64)),\n",
    "  layers.Dense(32),#, activation='relu'\n",
    "  layers.Dropout(0.2),\n",
    "  layers.Dense(1, activation='sigmoid')\n",
    "])"
   ]
  },
  {
   "cell_type": "code",
   "execution_count": null,
   "metadata": {
    "id": "W_xb5nC8BB93"
   },
   "outputs": [],
   "source": [
    "model.compile(loss=losses.BinaryCrossentropy(),\n",
    "              optimizer='adam',\n",
    "              metrics=['accuracy'])"
   ]
  },
  {
   "cell_type": "code",
   "execution_count": null,
   "metadata": {
    "colab": {
     "base_uri": "https://localhost:8080/",
     "height": 363
    },
    "id": "XaJa77klBCaG",
    "outputId": "a2efa7e8-aa64-49ab-efc6-b9624c6cd04a"
   },
   "outputs": [],
   "source": [
    "epochs = 5\n",
    "history = model.fit(train_ds, epochs=epochs)"
   ]
  },
  {
   "cell_type": "code",
   "execution_count": null,
   "metadata": {},
   "outputs": [],
   "source": [
    "from cleanlab.filter import find_label_issues\n",
    "\n",
    "probs = model.predict(train_ds.map(lambda x, y: x))\n",
    "probs_2class = np.column_stack([[1-num for num in probs], probs])\n",
    "\n",
    "ordered_label_issues = find_label_issues(\n",
    "    labels=dataset_df['Answer'],\n",
    "    pred_probs=probs_2class,\n",
    "    return_indices_ranked_by='self_confidence',\n",
    ")\n",
    "\n",
    "ordered_label_issues"
   ]
  },
  {
   "cell_type": "code",
   "execution_count": null,
   "metadata": {},
   "outputs": [],
   "source": [
    "probably_bots = pd.unique(dataset_df.loc[ordered_label_issues, 'Annotator ID'])\n",
    "probably_bots"
   ]
  },
  {
   "cell_type": "code",
   "execution_count": null,
   "metadata": {},
   "outputs": [],
   "source": [
    "bots_df = pd.DataFrame(data=probably_bots, columns=['botID'])\n",
    "bots_df['number_of_answers'] = [dataset_df.loc[dataset_df['Annotator ID']==botID].shape[0] for botID in probably_bots]\n",
    "bots_df['number_of_errors'] = [dataset_df.loc[ordered_label_issues].loc[dataset_df['Annotator ID']==botID].shape[0] for botID in probably_bots]\n",
    "bots_df['%_of_errors'] = bots_df['number_of_errors'] / bots_df['number_of_answers'] * 100\n",
    "bots_df.head(10)"
   ]
  },
  {
   "cell_type": "code",
   "execution_count": null,
   "metadata": {},
   "outputs": [],
   "source": [
    "suspicious_df = pd.DataFrame.copy(bots_df.loc[(bots_df['%_of_errors'] > 30) & (bots_df['number_of_answers'] > 1000)])\n",
    "suspicious_df['answer_count_True'] = [dataset_df.loc[dataset_df['Annotator ID']==botID, 'Answer'].value_counts()[1] for botID in suspicious_df['botID']]\n",
    "suspicious_df['answer_count_False'] = [dataset_df.loc[dataset_df['Annotator ID']==botID, 'Answer'].value_counts()[0] for botID in suspicious_df['botID']]\n",
    "suspicious_df"
   ]
  },
  {
   "cell_type": "code",
   "execution_count": null,
   "metadata": {},
   "outputs": [],
   "source": []
  }
 ],
 "metadata": {
  "accelerator": "GPU",
  "colab": {
   "provenance": []
  },
  "gpuClass": "standard",
  "kernelspec": {
   "display_name": "Python 3 (ipykernel)",
   "language": "python",
   "name": "python3"
  },
  "language_info": {
   "codemirror_mode": {
    "name": "ipython",
    "version": 3
   },
   "file_extension": ".py",
   "mimetype": "text/x-python",
   "name": "python",
   "nbconvert_exporter": "python",
   "pygments_lexer": "ipython3",
   "version": "3.9.12"
  }
 },
 "nbformat": 4,
 "nbformat_minor": 1
}
